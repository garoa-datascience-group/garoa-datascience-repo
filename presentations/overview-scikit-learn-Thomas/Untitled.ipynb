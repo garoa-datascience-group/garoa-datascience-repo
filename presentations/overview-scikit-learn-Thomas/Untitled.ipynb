{
 "cells": [
  {
   "cell_type": "markdown",
   "metadata": {},
   "source": [
    "# 10-minutes to scikit-learn\n",
    "The objective of this ipython notebook is to present a short overview of the main structure of the scikit-learn python module and an application of the methods often used in machine learning.\n"
   ]
  },
  {
   "cell_type": "markdown",
   "metadata": {},
   "source": [
    "## Notebook outline\n",
    "* Sklearn description\n",
    "* Available tools\n",
    "* A short application"
   ]
  },
  {
   "cell_type": "markdown",
   "metadata": {},
   "source": [
    "## Sklearn description\n",
    "scikit-learn is one of the main machine learning module available on Python.\n",
    "It includes simple and efficient tools for data analysis and  machine learning applications.\n",
    "It is build on top of numpy, scipy and matplotlib.\n"
   ]
  },
  {
   "cell_type": "markdown",
   "metadata": {},
   "source": [
    "## Available tools\n",
    "* Supervised learning\n",
    "  ** Models:GLM, SVM, SGD, Ensemble method (random forest, gradient boosting), NN ...\n",
    "* Unsupervised learning\n",
    "  ** Models: PCA, kernel PCA, clustering, NN,\n",
    "* Dimensionality reduction\n",
    "  ** PCA, ICA, Kernel PCA, factor analysis\n",
    "  ** feature selection\n",
    "* Model selection and evaluation\n",
    "  ** Cross-validation\n",
    "  ** Hyper-parameters optimization\n",
    "  ** Model evaluation: metrics\n",
    "* Dataset transformation\n",
    "  ** Feature extraction\n",
    "  ** Preprocessing\n",
    "  ** Pipeline"
   ]
  },
  {
   "cell_type": "markdown",
   "metadata": {},
   "source": [
    "## Pipeline and feature union"
   ]
  },
  {
   "cell_type": "markdown",
   "metadata": {},
   "source": [
    "Convenience: You only have to call fit and predict once\n",
    "Joint parameter selection\n",
    "\n",
    "## Tips to work with large amount of data\n",
    "http://scikit-learn.org/stable/modules/scaling_strategies.html#scaling-with-instances-using-out-of-core-learning"
   ]
  },
  {
   "cell_type": "markdown",
   "metadata": {},
   "source": [
    "## Application"
   ]
  },
  {
   "cell_type": "markdown",
   "metadata": {},
   "source": [
    "## Read Data"
   ]
  },
  {
   "cell_type": "code",
   "execution_count": null,
   "metadata": {
    "collapsed": true
   },
   "outputs": [],
   "source": []
  }
 ],
 "metadata": {
  "kernelspec": {
   "display_name": "Python 2",
   "language": "python",
   "name": "python2"
  },
  "language_info": {
   "codemirror_mode": {
    "name": "ipython",
    "version": 2
   },
   "file_extension": ".py",
   "mimetype": "text/x-python",
   "name": "python",
   "nbconvert_exporter": "python",
   "pygments_lexer": "ipython2",
   "version": "2.7.13"
  }
 },
 "nbformat": 4,
 "nbformat_minor": 2
}
